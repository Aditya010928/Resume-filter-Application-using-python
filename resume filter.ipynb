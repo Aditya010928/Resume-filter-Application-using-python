{
 "cells": [
  {
   "cell_type": "code",
   "execution_count": 41,
   "id": "397f85f7-5878-4e86-afee-31eee9296260",
   "metadata": {},
   "outputs": [],
   "source": [
    "import tkinter as tk\n",
    "from tkinter import filedialog, simpledialog, messagebox\n",
    "import os\n",
    "import nltk\n",
    "from nltk.tokenize import word_tokenize\n",
    "from nltk.corpus import stopwords\n",
    "from collections import defaultdict\n",
    "from PIL import Image, ImageTk\n",
    "from PyPDF2 import PdfReader"
   ]
  },
  {
   "cell_type": "code",
   "execution_count": 14,
   "id": "7df51b21-7a44-4b68-aef2-597887b46b30",
   "metadata": {},
   "outputs": [
    {
     "name": "stderr",
     "output_type": "stream",
     "text": [
      "[nltk_data] Downloading package punkt to\n",
      "[nltk_data]     C:\\Users\\adity\\AppData\\Roaming\\nltk_data...\n",
      "[nltk_data]   Package punkt is already up-to-date!\n",
      "[nltk_data] Downloading package stopwords to\n",
      "[nltk_data]     C:\\Users\\adity\\AppData\\Roaming\\nltk_data...\n",
      "[nltk_data]   Package stopwords is already up-to-date!\n"
     ]
    },
    {
     "data": {
      "text/plain": [
       "True"
      ]
     },
     "execution_count": 14,
     "metadata": {},
     "output_type": "execute_result"
    }
   ],
   "source": [
    "nltk.download('punkt')\n",
    "nltk.download('stopwords')"
   ]
  },
  {
   "cell_type": "code",
   "execution_count": 63,
   "id": "40e2ba1e-e5e1-4df2-a108-0ac68dda2bc3",
   "metadata": {},
   "outputs": [],
   "source": [
    "class ResumeFilterApp:\n",
    "    def __init__(self, root):\n",
    "        self.root = root\n",
    "        self.root.title(\"Resume Filter Application\")\n",
    "        self.root.geometry(\"600x400\")\n",
    "        self.root.config(bg=\"#f0f0f0\")\n",
    "        \n",
    "        self.logo_path = \"C:/Users/adity/OneDrive/Desktop/image.png\" \n",
    "        self.load_image(self.logo_path, 50, 50)\n",
    "\n",
    "        self.job_role_label = tk.Label(root, text=\"Enter Job Role:\", font=(\"Helvetica\", 14), bg=\"#f0f0f0\")\n",
    "        self.job_role_label.pack()\n",
    "        self.job_role_entry = tk.Entry(root, width=50, font=(\"Helvetica\", 12))\n",
    "        self.job_role_entry.pack()\n",
    "        \n",
    "        self.job_skills_label = tk.Label(root, text=\"Enter Job Skills (comma separated):\", font=(\"Helvetica\", 14), bg=\"#f0f0f0\")\n",
    "        self.job_skills_label.pack()\n",
    "        self.job_skills_entry = tk.Entry(root, width=50, font=(\"Helvetica\", 12))\n",
    "        self.job_skills_entry.pack()\n",
    "        \n",
    "        self.add_resume_button = tk.Button(root, text=\"Add Resume\", command=self.add_resume, font=(\"Helvetica\", 12))\n",
    "        self.add_resume_button.pack(pady=10)\n",
    "        self.add_resume_button.bind(\"<Enter>\", self.on_enter)\n",
    "        self.add_resume_button.bind(\"<Leave>\", self.on_leave)\n",
    "        \n",
    "        self.filter_resumes_button = tk.Button(root, text=\"Filter Resumes\", command=self.filter_resumes, font=(\"Helvetica\", 12))\n",
    "        self.filter_resumes_button.pack(pady=10)\n",
    "        self.filter_resumes_button.bind(\"<Enter>\", self.on_enter)\n",
    "        self.filter_resumes_button.bind(\"<Leave>\", self.on_leave)\n",
    "        \n",
    "        self.resume_texts = []\n",
    "        self.resume_names = []\n",
    "        self.resume_contacts = []\n",
    "        \n",
    "    def load_image(self, path, width, height):\n",
    "        image = Image.open(path)\n",
    "        image = image.resize((width, height))\n",
    "        self.logo_image = ImageTk.PhotoImage(image)\n",
    "        self.logo_label = tk.Label(self.root, image=self.logo_image, bg=\"#f0f0f0\")\n",
    "        self.logo_label.image = self.logo_image\n",
    "        self.logo_label.pack()\n",
    "\n",
    "    def add_resume(self):\n",
    "        file_path = filedialog.askopenfilename(filetypes=[(\"PDF files\", \"*.pdf\")])\n",
    "        if file_path:\n",
    "            content = self.extract_text_from_pdf(file_path)\n",
    "            if content:\n",
    "                name = simpledialog.askstring(\"Input\", \"Enter the candidate's name:\")\n",
    "                contact = simpledialog.askstring(\"Input\", \"Enter the candidate's contact details:\")\n",
    "                self.resume_texts.append(content)\n",
    "                self.resume_names.append(name)\n",
    "                self.resume_contacts.append(contact)\n",
    "                messagebox.showinfo(\"Info\", f\"Resume for {name} added successfully!\")\n",
    "            else:\n",
    "                messagebox.showerror(\"Error\", \"Failed to extract text from the PDF file.\")\n",
    "    \n",
    "    def extract_text_from_pdf(self, file_path):\n",
    "        try:\n",
    "            reader = PdfReader(file_path)\n",
    "            content = \"\"\n",
    "            for page in reader.pages:\n",
    "                content += page.extract_text()\n",
    "            return content\n",
    "        except Exception as e:\n",
    "            print(f\"Error extracting text from PDF: {e}\")\n",
    "            return None\n",
    "    \n",
    "    def filter_resumes(self):\n",
    "        job_role = self.job_role_entry.get()\n",
    "        job_skills = self.job_skills_entry.get().split(',')\n",
    "        job_skills = [skill.strip().lower() for skill in job_skills]\n",
    "\n",
    "        if not job_role or not job_skills:\n",
    "            messagebox.showerror(\"Error\", \"Please enter both job role and skills.\")\n",
    "            return\n",
    "\n",
    "        stop_words = set(stopwords.words('english'))\n",
    "        total_possible_score = len(job_skills)  # Calculate total possible score\n",
    "        filtered_scores = defaultdict(int)\n",
    "\n",
    "        for i, resume in enumerate(self.resume_texts):\n",
    "            tokens = word_tokenize(resume.lower())\n",
    "            filtered_tokens = [word for word in tokens if word.isalnum() and word not in stop_words]\n",
    "\n",
    "            score = 0\n",
    "            for skill in job_skills:\n",
    "                score += filtered_tokens.count(skill)\n",
    "\n",
    "            # Adjust score to prevent exceeding 100%\n",
    "            score = min(score, total_possible_score)\n",
    "\n",
    "            filtered_scores[i] = (score / total_possible_score) * 100  # Calculate and store percentage\n",
    "\n",
    "        sorted_resumes = sorted(filtered_scores.items(), key=lambda item: item[1], reverse=True)\n",
    "\n",
    "        result_text = \"Name\".ljust(20) + \"Contact\".ljust(20) + \"Match Percentage\\n\"\n",
    "        for index, score in sorted_resumes:\n",
    "            if score > 0:\n",
    "                result_text += f\"{self.resume_names[index]}\".ljust(20) + f\"{self.resume_contacts[index]}\".ljust(20) + f\"{score:.2f}%\\n\"  # Display percentage\n",
    "\n",
    "        result_window = tk.Toplevel(self.root)\n",
    "        result_window.title(\"Filtered Resumes\")\n",
    "        result_label = tk.Label(result_window, text=result_text, font=(\"Helvetica\", 12), bg=\"#f0f0f0\")\n",
    "        result_label.pack()\n",
    "\n",
    "    def on_enter(self, event):\n",
    "        event.widget['background'] = '#b3b3b3'\n",
    "        \n",
    "    def on_leave(self, event):\n",
    "        event.widget['background'] = 'SystemButtonFace'\n"
   ]
  },
  {
   "cell_type": "code",
   "execution_count": 64,
   "id": "2d4d7c64-144a-406c-9109-67bd73f02dd9",
   "metadata": {},
   "outputs": [],
   "source": [
    "if __name__ == \"__main__\":\n",
    "    root = tk.Tk()\n",
    "    app = ResumeFilterApp(root)\n",
    "    root.mainloop()"
   ]
  },
  {
   "cell_type": "code",
   "execution_count": null,
   "id": "47e95039-27fe-40fb-89f4-6c41beb68660",
   "metadata": {},
   "outputs": [],
   "source": []
  }
 ],
 "metadata": {
  "kernelspec": {
   "display_name": "Python 3 (ipykernel)",
   "language": "python",
   "name": "python3"
  },
  "language_info": {
   "codemirror_mode": {
    "name": "ipython",
    "version": 3
   },
   "file_extension": ".py",
   "mimetype": "text/x-python",
   "name": "python",
   "nbconvert_exporter": "python",
   "pygments_lexer": "ipython3",
   "version": "3.12.1"
  }
 },
 "nbformat": 4,
 "nbformat_minor": 5
}
